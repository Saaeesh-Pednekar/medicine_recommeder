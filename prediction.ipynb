{
 "cells": [
  {
   "cell_type": "code",
   "execution_count": null,
   "id": "4e1b0957-d871-45a8-9b58-0762c38a3d44",
   "metadata": {},
   "outputs": [],
   "source": [
    "import pandas as pd\n",
    "import numpy as np"
   ]
  },
  {
   "cell_type": "code",
   "execution_count": null,
   "id": "6ac97c5a-1bff-42c9-bcde-97e95d7a0cab",
   "metadata": {},
   "outputs": [],
   "source": [
    "data = pd.read_csv('medicine.csv')"
   ]
  },
  {
   "cell_type": "code",
   "execution_count": null,
   "id": "69160dab-f827-44d7-8a79-0f4da72a4982",
   "metadata": {},
   "outputs": [],
   "source": [
    "data.head()"
   ]
  },
  {
   "cell_type": "code",
   "execution_count": null,
   "id": "6a70a962-3c28-4da5-913a-1c9169f35893",
   "metadata": {},
   "outputs": [],
   "source": [
    "data.shape"
   ]
  },
  {
   "cell_type": "code",
   "execution_count": null,
   "id": "f9b46825-78fb-42d4-85ad-6d79c3b58f91",
   "metadata": {},
   "outputs": [],
   "source": [
    "data.isnull().sum()"
   ]
  },
  {
   "cell_type": "code",
   "execution_count": null,
   "id": "4f860b09-a203-4c8f-b641-a965cefec0ca",
   "metadata": {},
   "outputs": [],
   "source": [
    "data.duplicated().sum()"
   ]
  },
  {
   "cell_type": "code",
   "execution_count": null,
   "id": "4f09d8bc-8886-4ae3-a2dc-d9f8fe29fcaf",
   "metadata": {},
   "outputs": [],
   "source": [
    "data.describe()"
   ]
  },
  {
   "cell_type": "code",
   "execution_count": null,
   "id": "9055bc9d-57e5-422c-abd6-853945a26dc4",
   "metadata": {},
   "outputs": [],
   "source": [
    "data.info()"
   ]
  },
  {
   "cell_type": "code",
   "execution_count": null,
   "id": "f2a2df6e-2dcc-49dc-83d7-f6cded5d2751",
   "metadata": {},
   "outputs": [],
   "source": [
    "data['Description']"
   ]
  },
  {
   "cell_type": "code",
   "execution_count": null,
   "id": "0757acee-c8eb-4404-9e09-0b0b4b975eee",
   "metadata": {},
   "outputs": [],
   "source": [
    "data['Description'] = data['Description'].apply(lambda x: x.split())\n",
    "data['Reason'] = data['Reason'].apply(lambda x: x.split())"
   ]
  },
  {
   "cell_type": "code",
   "execution_count": null,
   "id": "53bff7b4-8798-4cbc-9602-e2983bbdc85c",
   "metadata": {},
   "outputs": [],
   "source": [
    "data.head()"
   ]
  },
  {
   "cell_type": "code",
   "execution_count": null,
   "id": "9d115d97-654b-4597-95bd-974129baa703",
   "metadata": {},
   "outputs": [],
   "source": [
    "data['Description'] = data['Description'].apply(lambda x : [i.replace(\" \", \"\") for i in x])"
   ]
  },
  {
   "cell_type": "code",
   "execution_count": null,
   "id": "c6addeef-fe52-418e-a765-d151504933ed",
   "metadata": {},
   "outputs": [],
   "source": [
    "data.head()"
   ]
  },
  {
   "cell_type": "code",
   "execution_count": null,
   "id": "02081e9c-46a0-45d3-8942-0bf6f5b1e73d",
   "metadata": {},
   "outputs": [],
   "source": [
    "data['combine'] = data['Description'] + data['Reason']"
   ]
  },
  {
   "cell_type": "code",
   "execution_count": null,
   "id": "7b04562b-33a2-4a13-892d-3211caeac53d",
   "metadata": {},
   "outputs": [],
   "source": [
    "data.head()"
   ]
  },
  {
   "cell_type": "code",
   "execution_count": null,
   "id": "45d2dae6-51bb-49ba-ae36-dc59087365c4",
   "metadata": {},
   "outputs": [],
   "source": [
    "new_data = data[['index', 'Drug_Name', 'combine']]"
   ]
  },
  {
   "cell_type": "code",
   "execution_count": null,
   "id": "56534bda-32ec-43c9-9d2d-3bf8f35b9f90",
   "metadata": {},
   "outputs": [],
   "source": [
    "new_data.head()"
   ]
  },
  {
   "cell_type": "code",
   "execution_count": null,
   "id": "215f23da-8f37-4aab-b6e0-cd86fb4c3455",
   "metadata": {
    "scrolled": true
   },
   "outputs": [],
   "source": [
    "new_data['combine'] = new_data['combine'].apply(lambda x : \" \".join(x))"
   ]
  },
  {
   "cell_type": "code",
   "execution_count": null,
   "id": "075f9cb6-2e07-4cab-9acf-9d4d50670930",
   "metadata": {},
   "outputs": [],
   "source": [
    "new_data['combine'] = new_data['combine'].apply(lambda x : x.lower())"
   ]
  },
  {
   "cell_type": "code",
   "execution_count": null,
   "id": "b1e67de1-e57f-4e16-8058-dc78976cefd9",
   "metadata": {},
   "outputs": [],
   "source": [
    "new_data.head()"
   ]
  },
  {
   "cell_type": "code",
   "execution_count": null,
   "id": "6ffd8715-b801-439f-a73a-0001e59ee256",
   "metadata": {},
   "outputs": [],
   "source": [
    "import nltk"
   ]
  },
  {
   "cell_type": "code",
   "execution_count": null,
   "id": "feadcc58-a57c-4f28-9a46-000955c3ba57",
   "metadata": {},
   "outputs": [],
   "source": [
    "from nltk.stem.porter import PorterStemmer\n",
    "ps = PorterStemmer()"
   ]
  },
  {
   "cell_type": "code",
   "execution_count": null,
   "id": "d6ca27a6-99eb-4fbc-8989-4df7b3da4c28",
   "metadata": {},
   "outputs": [],
   "source": [
    "from sklearn.feature_extraction.text import CountVectorizer"
   ]
  },
  {
   "cell_type": "code",
   "execution_count": null,
   "id": "8b457a9b-b6cd-4a14-b050-74768c7045f1",
   "metadata": {},
   "outputs": [],
   "source": [
    "cv = CountVectorizer(stop_words = 'english', max_features = 5000)"
   ]
  },
  {
   "cell_type": "code",
   "execution_count": null,
   "id": "3e329c7f-3950-4da5-b5c9-687805626f61",
   "metadata": {},
   "outputs": [],
   "source": [
    "def stem(text):\n",
    "    y = []\n",
    "    for i in text.split():\n",
    "        y.append(ps.stem(i))\n",
    "    return \" \".join(y)\n",
    "        "
   ]
  },
  {
   "cell_type": "code",
   "execution_count": null,
   "id": "55ddee15-ee33-4f69-8bf5-306b38fdcabb",
   "metadata": {},
   "outputs": [],
   "source": [
    "stem(\"helpful running turned\")"
   ]
  },
  {
   "cell_type": "code",
   "execution_count": null,
   "id": "673133f4-9036-4848-912f-c26111e234de",
   "metadata": {},
   "outputs": [],
   "source": [
    "new_data['combine'] = new_data['combine'].apply(stem)"
   ]
  },
  {
   "cell_type": "code",
   "execution_count": null,
   "id": "767b49f6-83de-4edf-94a9-8525eeceafd6",
   "metadata": {
    "scrolled": true
   },
   "outputs": [],
   "source": [
    "new_data.head()"
   ]
  },
  {
   "cell_type": "code",
   "execution_count": null,
   "id": "e35cb9de-5f19-4b87-b4f1-4206aa472fa8",
   "metadata": {},
   "outputs": [],
   "source": [
    "vectors = cv.fit_transform(new_data['combine']).toarray()"
   ]
  },
  {
   "cell_type": "code",
   "execution_count": null,
   "id": "6d22275d-18cf-4fcd-8590-057f0f2b3913",
   "metadata": {},
   "outputs": [],
   "source": [
    "vectors.shape"
   ]
  },
  {
   "cell_type": "code",
   "execution_count": null,
   "id": "492e71c4-73a1-482f-8750-d25ebcd4ade3",
   "metadata": {},
   "outputs": [],
   "source": [
    "cv.get_feature_names_out()"
   ]
  },
  {
   "cell_type": "code",
   "execution_count": null,
   "id": "1c5e79f0-55b6-49b0-b1bc-077c8cb1fe44",
   "metadata": {},
   "outputs": [],
   "source": [
    "from sklearn.metrics.pairwise import cosine_similarity"
   ]
  },
  {
   "cell_type": "code",
   "execution_count": null,
   "id": "c2c4b78d-9c7b-466b-84b0-542c820eff73",
   "metadata": {},
   "outputs": [],
   "source": [
    "similarity = cosine_similarity(vectors)"
   ]
  },
  {
   "cell_type": "code",
   "execution_count": null,
   "id": "c8f7776b-8f24-43dc-91e3-47de6f3cd44b",
   "metadata": {},
   "outputs": [],
   "source": [
    "similarity[1]"
   ]
  },
  {
   "cell_type": "code",
   "execution_count": null,
   "id": "fc70a8b7-060e-4943-9d51-a5b7b43174d2",
   "metadata": {},
   "outputs": [],
   "source": [
    "def recommendation(medicine):\n",
    "    medicine_index = new_data[new_data['Drug_Name'] == medicine].index[0]\n",
    "    distance = similarity[medicine_index]\n",
    "    medicine_list = sorted(list(enumerate(distance)), reverse=True, key = lambda x : x[1])[1:6]\n",
    "    for i in medicine_list:\n",
    "        print(new_data.iloc[i[0]].Drug_Name)"
   ]
  },
  {
   "cell_type": "code",
   "execution_count": null,
   "id": "3403d8f0",
   "metadata": {},
   "outputs": [],
   "source": []
  },
  {
   "cell_type": "code",
   "execution_count": null,
   "id": "b46f0e3a-fa84-4941-8b3d-a13234fc61eb",
   "metadata": {},
   "outputs": [],
   "source": [
    "recommendation(\"A CN Gel(Topical) 20gmA CN Soap 75gm\")"
   ]
  },
  {
   "cell_type": "markdown",
   "id": "d81f5ddc-6e2f-4518-8902-8ebebeddc079",
   "metadata": {},
   "source": [
    "# Saving medicine and importing for application"
   ]
  },
  {
   "cell_type": "code",
   "execution_count": null,
   "id": "70b2b7b6-9ab2-4b7b-848a-cd98419888be",
   "metadata": {},
   "outputs": [],
   "source": [
    "import pickle\n",
    "pickle.dump(new_data.to_dict(), open('medicine_dict.pkl', 'wb'))\n",
    "pickle.dump(similarity, open('similarity.pkl', 'wb'))"
   ]
  },
  {
   "cell_type": "code",
   "execution_count": null,
   "id": "df57e8e5-7605-48e8-ad4c-4d7aabc2e6ff",
   "metadata": {},
   "outputs": [],
   "source": [
    "new_data.head()"
   ]
  }
 ],
 "metadata": {
  "kernelspec": {
   "display_name": "Python 3 (ipykernel)",
   "language": "python",
   "name": "python3"
  },
  "language_info": {
   "codemirror_mode": {
    "name": "ipython",
    "version": 3
   },
   "file_extension": ".py",
   "mimetype": "text/x-python",
   "name": "python",
   "nbconvert_exporter": "python",
   "pygments_lexer": "ipython3",
   "version": "3.11.7"
  },
  "widgets": {
   "application/vnd.jupyter.widget-state+json": {
    "state": {},
    "version_major": 2,
    "version_minor": 0
   }
  }
 },
 "nbformat": 4,
 "nbformat_minor": 5
}
